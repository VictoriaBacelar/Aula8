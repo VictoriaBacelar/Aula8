{
  "nbformat": 4,
  "nbformat_minor": 0,
  "metadata": {
    "colab": {
      "name": "Aula8_AnaVitoria.ipynb",
      "version": "0.3.2",
      "provenance": []
    },
    "kernelspec": {
      "name": "python3",
      "display_name": "Python 3"
    }
  },
  "cells": [
    {
      "metadata": {
        "id": "xhNu7h6JVjJ_",
        "colab_type": "code",
        "colab": {}
      },
      "cell_type": "code",
      "source": [
        ""
      ],
      "execution_count": 0,
      "outputs": []
    },
    {
      "metadata": {
        "id": "mGvOc86lYuC_",
        "colab_type": "code",
        "outputId": "c7fb0f54-86ba-45d7-95be-2ea703f5ce51",
        "colab": {
          "base_uri": "https://localhost:8080/",
          "height": 102
        }
      },
      "cell_type": "code",
      "source": [
        "#Def 1\n",
        "\n",
        "import numpy as np\n",
        "def resolution (a,b):\n",
        "    n = len(a)\n",
        "    x = n*[0]\n",
        "    x[n-1] = b[n-1]/a[n-1][n-1]\n",
        "    for i in range(n-2,-1,-1):\n",
        "      s=0\n",
        "      for j in range(i+1,n):\n",
        "        s = s + (a[i][j]*x[j])\n",
        "      x[i] = (b[i] - s) /a[i][i]\n",
        "    return x\n",
        "\n",
        "\n",
        "a = np.array([[1,2,3,4],[0,5,6,7],[0,0,8,9],[0,0,0,10]])\n",
        "b = np.array([5,4,4,2])\n",
        "\n",
        "print(\"Resoluçaõ a partir do def:\")\n",
        "print(resolution(a,b))\n",
        "print(\"\")\n",
        "print(\"Resoluçaõ pelo linalg.solver:\")\n",
        "resp = np.linalg.solve(a,b)\n",
        "print(resp)\n"
      ],
      "execution_count": 14,
      "outputs": [
        {
          "output_type": "stream",
          "text": [
            "Resoluçaõ a partir do def:\n",
            "[2.995, 0.18999999999999995, 0.275, 0.2]\n",
            "\n",
            "Resoluçaõ pelo linalg.solver:\n",
            "[2.995 0.19  0.275 0.2  ]\n"
          ],
          "name": "stdout"
        }
      ]
    },
    {
      "metadata": {
        "id": "J5-s7gkI-P3t",
        "colab_type": "code",
        "outputId": "f72ed227-9c4e-4128-b03a-b5e8676b96b2",
        "colab": {
          "base_uri": "https://localhost:8080/",
          "height": 170
        }
      },
      "cell_type": "code",
      "source": [
        "\n",
        "#Def 2\n",
        "\n",
        "import numpy as np\n",
        "def resolution (a,b):\n",
        "    n = len(a)\n",
        "    m = n*[0]\n",
        "    \n",
        "    for k in range(0,n-1):\n",
        "      for i in range(k+1,n):\n",
        "        m = a[i][k]/a[k][k]\n",
        "        a[i][k]=0\n",
        "        for j in range(k+1,n):\n",
        "          a[i][j] = a[i][j] - (m*a[k][j])\n",
        "          b[i] = b[i] - (m*b[k])\n",
        "          \n",
        "  \n",
        "    return a\n",
        "\n",
        "a = np.array([[2,(1),(-3)], [-1,3,(2)], [(3),(1),(-3)]])\n",
        "b = np.array([-1,12,0])\n",
        "\n",
        "print(\"Matriz inicial\")\n",
        "print(a)\n",
        "print(\"\")\n",
        "print(\"Matriz final / P.S: Está arredondando os valores\")\n",
        "\n",
        "print(resolution(a,b))\n",
        "\n",
        "#Matriz final,se não estivesse arredondando para baixo, seria:\n",
        "#[[ 2,  1,   -3],\n",
        "#[ 0,  7/2, 1/2], -----> 7/2 => 3,5 => 3\n",
        "#[ 0,  0,  11/7]])"
      ],
      "execution_count": 16,
      "outputs": [
        {
          "output_type": "stream",
          "text": [
            "Matriz inicial\n",
            "[[ 2  1 -3]\n",
            " [-1  3  2]\n",
            " [ 3  1 -3]]\n",
            "\n",
            "Matriz final / P.S: Está arredondando os valores\n",
            "[[ 2  1 -3]\n",
            " [ 0  3  0]\n",
            " [ 0  0  1]]\n"
          ],
          "name": "stdout"
        }
      ]
    }
  ]
}